{
  "cells": [
    {
      "cell_type": "markdown",
      "metadata": {
        "id": "view-in-github",
        "colab_type": "text"
      },
      "source": [
        "<a href=\"https://colab.research.google.com/github/kindahex/Hex-RVC/blob/main/notebook/HexRVC_colab.ipynb\" target=\"_parent\"><img src=\"https://colab.research.google.com/assets/colab-badge.svg\" alt=\"Open In Colab\"/></a>"
      ]
    },
    {
      "cell_type": "markdown",
      "metadata": {
        "id": "YYVAKuNBc-X4"
      },
      "source": [
        "\n",
        "\n",
        "# HEX RVC (LITE)\n",
        "Original Repo by [SociallyIneptWeeb](https://github.com/SociallyIneptWeeb/AICoverGen)\n",
        "\n",
        "\n",
        "Simply click `Runtime` in the top navigation bar and `Run all`. Wait for the output of the final cell to show the public gradio url and click on it."
      ]
    },
    {
      "cell_type": "code",
      "execution_count": null,
      "metadata": {
        "id": "vC4gLMHI9xb3",
        "cellView": "form"
      },
      "outputs": [],
      "source": [
        "\n",
        "\n",
        "#@title Clone repository\n",
        "from IPython.display import clear_output, Javascript\n",
        "import codecs\n",
        "import threading\n",
        "import time\n",
        "import os # for reasons...\n",
        "# cloneing=codecs.decode('uggcf://tvguho.pbz/uvanoy/NVPbireTra-Pbyno.tvg','rot_13')\n",
        "credit = \" - This Notebook by Hina and Blane187gt\"\n",
        "#=======================Auto Edit======================\n",
        "\n",
        "cloneing= \"https://github.com/kindahex/Hex-RVC.git\"\n",
        "\n",
        "#=====================Auto Edit End================\n",
        "!git clone $cloneing Hex-RVC\n",
        "\n",
        "!rm -rf sample_data\n",
        "\n",
        "%cd /content/\n",
        "\n",
        "%cd Hex-RVC\n",
        "\n",
        "\n",
        "def update_timer_and_print():\n",
        "    global timer\n",
        "    while True:\n",
        "        hours, remainder = divmod(timer, 3600)\n",
        "        minutes, seconds = divmod(remainder, 60)\n",
        "        timer_str = f'{hours:02}:{minutes:02}:{seconds:02}'\n",
        "        print(f'\\rTimer: {timer_str} ', end='', flush=True)  # Print without a newline\n",
        "        time.sleep(1)\n",
        "        timer += 1\n",
        "timer = 0\n",
        "threading.Thread(target=update_timer_and_print, daemon=True).start()\n",
        "#@markdown ---\n",
        "LongInstall=False # {type:\"boolean\"}\n",
        "\n",
        "clear_output()\n",
        "print(\"Done Cloning Repository\"+credit)"
      ]
    },
    {
      "cell_type": "code",
      "execution_count": null,
      "metadata": {
        "id": "odzpJHpr_PaF",
        "cellView": "form"
      },
      "outputs": [],
      "source": [
        "#@title Install requirements\n",
        "req=codecs.decode('erdhverzragf.gkg','rot_13')\n",
        "pt=codecs.decode('fep/pbasvtf','rot_13')\n",
        "\n",
        "mdxg = \"src/download_mdx_models.py\"\n",
        "\n",
        "\n",
        "!pip install pip==23.3.1\n",
        "!pip install -r requirements.txt\n",
        "\n",
        "!pip install gradio==3.48.0\n",
        "\n",
        "\n",
        "# clear_output()\n",
        "print(\"Finished Installing Requirements\")\n",
        "!sudo apt update\n",
        "# clear_output()\n",
        "print(\"Finished Updating\")\n",
        "!sudo apt install sox\n",
        "clear_output()\n",
        "models=codecs.decode('fep/qbjaybnq_zbqryf.cl','rot_13')\n",
        "!python $models\n",
        "!python $mdxg\n",
        "\n",
        "\n",
        "# install cuda fix\n",
        "!python -m pip install ort-nightly-gpu --index-url=https://aiinfra.pkgs.visualstudio.com/PublicPackages/_packaging/ort-cuda-12-nightly/pypi/simple/\n",
        "\n",
        "clear_output()\n",
        "print(\"Finished Downloading Voice Separation Model and Hubert Base Model\")\n",
        "print(\"Finsihed running this cell, proceed to the next cell\"+credit)"
      ]
    },
    {
      "cell_type": "code",
      "execution_count": null,
      "metadata": {
        "id": "NEglTq6Ya9d0",
        "cellView": "form"
      },
      "outputs": [],
      "source": [
        "#@title Run WebUI\n",
        "#@markdown ---\n",
        "runpice=codecs.decode('fep/jrohv.cl','rot_13')\n",
        "\n",
        "!python $runpice"
      ]
    }
  ],
  "metadata": {
    "accelerator": "GPU",
    "colab": {
      "gpuType": "T4",
      "provenance": [],
      "private_outputs": true,
      "cell_execution_strategy": "setup",
      "include_colab_link": true
    },
    "kernelspec": {
      "display_name": "Python 3",
      "name": "python3"
    },
    "language_info": {
      "name": "python"
    }
  },
  "nbformat": 4,
  "nbformat_minor": 0
}